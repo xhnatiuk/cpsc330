{
 "cells": [
  {
   "cell_type": "markdown",
   "metadata": {
    "slideshow": {
     "slide_type": "slide"
    }
   },
   "source": [
    "![](img/330-banner.png)"
   ]
  },
  {
   "cell_type": "markdown",
   "metadata": {
    "slideshow": {
     "slide_type": "-"
    }
   },
   "source": [
    "# Lecture 4: $k$-Nearest Neighbours and SVM RBFs  \n",
    "\n",
    "UBC 2020-21\n",
    "\n",
    "Instructor: Varada Kolhatkar\n",
    "\n",
    "> If two things are similar, the thought of one will tend to trigger the thought of the other <br>\n",
    "-- Aristotle"
   ]
  },
  {
   "cell_type": "markdown",
   "metadata": {
    "slideshow": {
     "slide_type": "skip"
    }
   },
   "source": [
    "## Imports"
   ]
  },
  {
   "cell_type": "code",
   "execution_count": null,
   "metadata": {
    "slideshow": {
     "slide_type": "skip"
    }
   },
   "outputs": [],
   "source": [
    "import sys\n",
    "\n",
    "import IPython\n",
    "import matplotlib.pyplot as plt\n",
    "import numpy as np\n",
    "import pandas as pd\n",
    "from IPython.display import HTML\n",
    "\n",
    "sys.path.append(\"code/.\")\n",
    "\n",
    "import ipywidgets as widgets\n",
    "import mglearn\n",
    "from IPython.display import display\n",
    "from ipywidgets import interact, interactive\n",
    "from plotting_functions import *\n",
    "from sklearn.dummy import DummyClassifier\n",
    "from sklearn.model_selection import cross_validate, train_test_split\n",
    "from utils import *\n",
    "\n",
    "%matplotlib inline\n",
    "\n",
    "pd.set_option(\"display.max_colwidth\", 200)\n",
    "import warnings\n",
    "\n",
    "warnings.filterwarnings(\"ignore\")"
   ]
  },
  {
   "cell_type": "markdown",
   "metadata": {
    "slideshow": {
     "slide_type": "slide"
    }
   },
   "source": [
    "## Lecture plan for today\n",
    "\n",
    "- Announcements (~2 mins)\n",
    "- Recap and intro (~5 mins)\n",
    "- Exercises and Q&A on pre-watched videos (~20 mins) \n",
    "- Watch [More on $k$-NNs video](https://youtu.be/IRGbqi5S9gQ) (~9 mins)\n",
    "- Q&A (~5 mins)\n",
    "- Break \n",
    "- Watch [SVM RBFs video](https://youtu.be/ic_zqOhi020) (~12 mins)  \n",
    "- Exercises and Q&A on SVM RBFs (~15 mins)\n",
    "- Summary and wrap up (~5 mins)"
   ]
  },
  {
   "cell_type": "markdown",
   "metadata": {
    "slideshow": {
     "slide_type": "skip"
    }
   },
   "source": [
    "<br><br>"
   ]
  },
  {
   "cell_type": "markdown",
   "metadata": {
    "slideshow": {
     "slide_type": "slide"
    }
   },
   "source": [
    "## Announcements\n",
    "\n",
    "- [Piazza poll on morale](https://piazza.com/class/kt60nrdhu53454?cid=116)\n",
    "- [Restaurant dataset](https://github.com/UBC-CS/cpsc330/blob/master/lectures/data/cleaned_restaurant_data.csv) is available for your exploration. \n",
    "- hw3 will be released today. \n",
    "    - I plan to allow group submission starting this homework. \n",
    "- If you are still on the waitlist, it's your responsibility to keep up with the material and submit assignments. \n",
    "- Try to avoid asking questions in the break. If you have specific questions and you want to talk to me in person, we can do it outside after the class. "
   ]
  },
  {
   "cell_type": "markdown",
   "metadata": {
    "slideshow": {
     "slide_type": "slide"
    }
   },
   "source": [
    "### Quick recap\n",
    "\n",
    "- Why do we split the data? \n",
    "- What are the 4 types of data we discussed last class?\n",
    "- What are the advantages of cross-validation?\n",
    "- What is overfitting? \n",
    "- What's the fundamental trade-off in supervised machine learning? \n",
    "- What is the golden rule of machine learning?"
   ]
  },
  {
   "cell_type": "markdown",
   "metadata": {
    "slideshow": {
     "slide_type": "skip"
    }
   },
   "source": [
    "## Learning outcomes\n",
    "\n",
    "From this lecture, you will be able to \n",
    "\n",
    "- explain the notion of similarity-based algorithms; \n",
    "- broadly describe how $k$-NNs use distances; \n",
    "- discuss the effect of using a small/large value of the hyperparameter $k$ when using the $k$-NN algorithm; \n",
    "- describe the problem of curse of dimensionality; \n",
    "- explain the general idea of SVMs with RBF kernel;\n",
    "- broadly describe the relation of `gamma` and `C` hyperparameters of SVMs with the fundamental tradeoff."
   ]
  },
  {
   "cell_type": "markdown",
   "metadata": {
    "slideshow": {
     "slide_type": "slide"
    }
   },
   "source": [
    "```{important} \n",
    "If you want to run this notebook you will have to install `ipywidgets`. \n",
    "Follow the installation instructions [here](https://ipywidgets.readthedocs.io/en/latest/user_install.html).\n",
    "```"
   ]
  },
  {
   "cell_type": "markdown",
   "metadata": {
    "slideshow": {
     "slide_type": "slide"
    }
   },
   "source": [
    "## Motivation and distances [[video](https://youtu.be/hCa3EXEUmQk)]"
   ]
  },
  {
   "cell_type": "markdown",
   "metadata": {
    "slideshow": {
     "slide_type": "slide"
    }
   },
   "source": [
    "### Analogy-based models\n",
    "\n",
    "- Suppose you are given the following training examples with corresponding labels and are asked to label a given test example.\n",
    "\n",
    "<img src='./img/knn-motivation.png' width=\"1000\">\n",
    "\n",
    "[source](https://vipl.ict.ac.cn/en/database.php)\n",
    "\n",
    "- An intuitive way to classify the test example is by finding the most \"similar\" example(s) from the training set and using that label for the test example.  "
   ]
  },
  {
   "cell_type": "markdown",
   "metadata": {
    "slideshow": {
     "slide_type": "slide"
    }
   },
   "source": [
    "### Analogy-based algorithms in practice\n",
    "\n",
    "- [Herta's High-tech Facial Recognition](https://www.hertasecurity.com/en)\n",
    "    - Feature vectors for human faces \n",
    "    - $k$-NN to identify which face is on their watch list\n",
    "- Recommendation systems     \n",
    "\n",
    "<img src='./img/hetra.png' width=\"500\">\n",
    "\n",
    "[source](https://hertasecurity.com/)"
   ]
  },
  {
   "cell_type": "markdown",
   "metadata": {
    "slideshow": {
     "slide_type": "slide"
    }
   },
   "source": [
    "### General idea of $k$-nearest neighbours algorithm\n",
    "\n",
    "- Consider the following toy dataset with two classes.\n",
    "    - blue circles $\\rightarrow$ class 0\n",
    "    - red triangles $\\rightarrow$ class 1 \n",
    "    - green stars $\\rightarrow$ test examples"
   ]
  },
  {
   "cell_type": "code",
   "execution_count": null,
   "metadata": {
    "slideshow": {
     "slide_type": "-"
    }
   },
   "outputs": [],
   "source": [
    "X, y = mglearn.datasets.make_forge()\n",
    "X_test = np.array([[8.2, 3.66214339], [9.9, 3.2], [11.2, 0.5]])"
   ]
  },
  {
   "cell_type": "code",
   "execution_count": null,
   "metadata": {},
   "outputs": [],
   "source": [
    "plot_train_test_points(X, y, X_test)"
   ]
  },
  {
   "cell_type": "markdown",
   "metadata": {
    "slideshow": {
     "slide_type": "slide"
    }
   },
   "source": [
    "- Given a new data point, predict the class of the data point by finding the \"closest\" data point in the training set, i.e., by finding its \"nearest neighbour\" or majority vote of nearest neighbours. "
   ]
  },
  {
   "cell_type": "code",
   "execution_count": null,
   "metadata": {
    "slideshow": {
     "slide_type": "-"
    }
   },
   "outputs": [],
   "source": [
    "def f(n_neighbors):\n",
    "    return plot_knn_clf(X, y, X_test, n_neighbors=n_neighbors)"
   ]
  },
  {
   "cell_type": "code",
   "execution_count": null,
   "metadata": {},
   "outputs": [],
   "source": [
    "interactive(\n",
    "    f,\n",
    "    n_neighbors=widgets.IntSlider(min=1, max=7, step=2, value=1),\n",
    ")"
   ]
  },
  {
   "cell_type": "markdown",
   "metadata": {
    "slideshow": {
     "slide_type": "slide"
    },
    "tags": []
   },
   "source": [
    "### Geometric view of tabular data and dimensions \n",
    "\n",
    "- To understand analogy-based algorithms it's useful to think of data as points in a high dimensional space. \n",
    "- Our `X` represents the the problem in terms of relevant **features** ($d$) with one dimension for each **feature** (column).\n",
    "- Examples are **points in a $d$-dimensional space**. "
   ]
  },
  {
   "cell_type": "markdown",
   "metadata": {
    "slideshow": {
     "slide_type": "-"
    }
   },
   "source": [
    "How many dimensions (features) are there in the cities data?"
   ]
  },
  {
   "cell_type": "code",
   "execution_count": null,
   "metadata": {
    "slideshow": {
     "slide_type": "-"
    }
   },
   "outputs": [],
   "source": [
    "cities_df = pd.read_csv(\"data/canada_usa_cities.csv\")\n",
    "X_cities = cities_df[[\"longitude\", \"latitude\"]]\n",
    "y_cities = cities_df[\"country\"]"
   ]
  },
  {
   "cell_type": "code",
   "execution_count": null,
   "metadata": {
    "slideshow": {
     "slide_type": "slide"
    }
   },
   "outputs": [],
   "source": [
    "mglearn.discrete_scatter(X_cities.iloc[:, 0], X_cities.iloc[:, 1], y_cities)\n",
    "plt.xlabel(\"longitude\")\n",
    "plt.ylabel(\"latitude\");"
   ]
  },
  {
   "cell_type": "markdown",
   "metadata": {
    "slideshow": {
     "slide_type": "slide"
    }
   },
   "source": [
    "- Recall the [Spotify Song Attributes](https://www.kaggle.com/geomack/spotifyclassification/home) dataset from homework 1. \n",
    "- How many dimensions (features) we used in the homework? "
   ]
  },
  {
   "cell_type": "code",
   "execution_count": null,
   "metadata": {
    "slideshow": {
     "slide_type": "-"
    }
   },
   "outputs": [],
   "source": [
    "spotify_df = pd.read_csv(\"data/spotify.csv\", index_col=0)\n",
    "X_spotify = spotify_df.drop(columns=[\"target\", \"song_title\", \"artist\"])\n",
    "print(\"The number of features in the Spotify dataset: %d\" % X_spotify.shape[1])\n",
    "X_spotify.head()"
   ]
  },
  {
   "cell_type": "markdown",
   "metadata": {
    "slideshow": {
     "slide_type": "slide"
    },
    "tags": []
   },
   "source": [
    "### Dimensions in ML problems \n",
    "\n",
    "In ML, usually we deal with high dimensional problems where examples are hard to visualize.  \n",
    "\n",
    "- $d \\approx 20$ is considered low dimensional\n",
    "- $d \\approx 1000$ is considered medium dimensional \n",
    "- $d \\approx 100,000$ is considered high dimensional "
   ]
  },
  {
   "cell_type": "markdown",
   "metadata": {
    "slideshow": {
     "slide_type": "slide"
    }
   },
   "source": [
    "### Feature vectors \n",
    "\n",
    "**Feature vector**\n",
    ": is composed of feature values associated with an example.\n",
    "\n",
    "Some example feature vectors are shown below. "
   ]
  },
  {
   "cell_type": "code",
   "execution_count": null,
   "metadata": {
    "slideshow": {
     "slide_type": "-"
    }
   },
   "outputs": [],
   "source": [
    "print(\n",
    "    \"An example feature vector from the cities dataset: %s\"\n",
    "    % (X_cities.iloc[0].to_numpy())\n",
    ")\n",
    "print(\n",
    "    \"An example feature vector from the Spotify dataset: \\n%s\"\n",
    "    % (X_spotify.iloc[0].to_numpy())\n",
    ")"
   ]
  },
  {
   "cell_type": "markdown",
   "metadata": {
    "slideshow": {
     "slide_type": "slide"
    },
    "tags": []
   },
   "source": [
    "### Similarity between examples\n",
    "\n",
    "Let's take 2 points (two feature vectors) from the cities dataset."
   ]
  },
  {
   "cell_type": "code",
   "execution_count": null,
   "metadata": {
    "slideshow": {
     "slide_type": "-"
    }
   },
   "outputs": [],
   "source": [
    "two_cities = X_cities.sample(2, random_state=120)\n",
    "two_cities"
   ]
  },
  {
   "cell_type": "markdown",
   "metadata": {
    "slideshow": {
     "slide_type": "slide"
    }
   },
   "source": [
    "The two sampled points are shown as big black circles."
   ]
  },
  {
   "cell_type": "code",
   "execution_count": null,
   "metadata": {},
   "outputs": [],
   "source": [
    "mglearn.discrete_scatter(\n",
    "    X_cities.iloc[:, 0], X_cities.iloc[:, 1], y_cities, s=8, alpha=0.3\n",
    ")\n",
    "mglearn.discrete_scatter(\n",
    "    two_cities.iloc[:, 0], two_cities.iloc[:, 1], markers=\"o\", c=\"k\", s=18\n",
    ");"
   ]
  },
  {
   "cell_type": "markdown",
   "metadata": {
    "slideshow": {
     "slide_type": "slide"
    },
    "tags": []
   },
   "source": [
    "### Distance between feature vectors \n",
    "\n",
    "- For the cities at the two big circles, what is the _distance_ between them?\n",
    "- A common way to calculate the distance between vectors is calculating the **Euclidean distance**. \n",
    "- The euclidean distance between vectors $u = <u_1, u_2, \\dots, u_n>$ and $v = <v_1, v_2, \\dots, v_n>$ is defined as: \n",
    "\n",
    "$$distance(u, v) = \\sqrt{\\sum_{i =1}^{n} (u_i - v_i)^2}$$ \n"
   ]
  },
  {
   "cell_type": "markdown",
   "metadata": {
    "slideshow": {
     "slide_type": "slide"
    }
   },
   "source": [
    "### Euclidean distance "
   ]
  },
  {
   "cell_type": "code",
   "execution_count": null,
   "metadata": {
    "slideshow": {
     "slide_type": "-"
    }
   },
   "outputs": [],
   "source": [
    "two_cities"
   ]
  },
  {
   "cell_type": "markdown",
   "metadata": {
    "slideshow": {
     "slide_type": "skip"
    }
   },
   "source": [
    "- Subtract the two cities\n",
    "- Square the difference\n",
    "- Sum them up \n",
    "- Take the square root "
   ]
  },
  {
   "cell_type": "code",
   "execution_count": null,
   "metadata": {},
   "outputs": [],
   "source": [
    "# Subtract the two cities\n",
    "print(\"Subtract the cities: \\n%s\\n\" % (two_cities.iloc[1] - two_cities.iloc[0]))\n",
    "\n",
    "# Squared sum of the difference\n",
    "print(\n",
    "    \"Sum of squares: %0.4f\" % (np.sum((two_cities.iloc[1] - two_cities.iloc[0]) ** 2))\n",
    ")\n",
    "\n",
    "# Take the square root\n",
    "print(\n",
    "    \"Euclidean distance between cities: %0.4f\"\n",
    "    % (np.sqrt(np.sum((two_cities.iloc[1] - two_cities.iloc[0]) ** 2)))\n",
    ")"
   ]
  },
  {
   "cell_type": "code",
   "execution_count": null,
   "metadata": {
    "slideshow": {
     "slide_type": "slide"
    }
   },
   "outputs": [],
   "source": [
    "two_cities"
   ]
  },
  {
   "cell_type": "code",
   "execution_count": null,
   "metadata": {
    "slideshow": {
     "slide_type": "-"
    }
   },
   "outputs": [],
   "source": [
    "# Euclidean distance using sklearn\n",
    "from sklearn.metrics.pairwise import euclidean_distances\n",
    "\n",
    "euclidean_distances(two_cities)"
   ]
  },
  {
   "cell_type": "markdown",
   "metadata": {
    "slideshow": {
     "slide_type": "-"
    }
   },
   "source": [
    "Note: `scikit-learn` supports a number of other [distance metrics](https://scikit-learn.org/stable/modules/generated/sklearn.neighbors.DistanceMetric.html).\n"
   ]
  },
  {
   "cell_type": "markdown",
   "metadata": {
    "slideshow": {
     "slide_type": "slide"
    }
   },
   "source": [
    "### Finding the nearest neighbour\n",
    "\n",
    "- Let's look at distances from all cities to all other cities"
   ]
  },
  {
   "cell_type": "code",
   "execution_count": null,
   "metadata": {
    "slideshow": {
     "slide_type": "-"
    }
   },
   "outputs": [],
   "source": [
    "dists = euclidean_distances(X_cities)\n",
    "np.fill_diagonal(dists, np.inf)\n",
    "print(\"All distances: %s\\n\\n%s\" % (dists.shape, dists))"
   ]
  },
  {
   "cell_type": "markdown",
   "metadata": {
    "slideshow": {
     "slide_type": "slide"
    }
   },
   "source": [
    "Let's look at the distances between City 0 and some other cities. "
   ]
  },
  {
   "cell_type": "code",
   "execution_count": null,
   "metadata": {
    "slideshow": {
     "slide_type": "-"
    }
   },
   "outputs": [],
   "source": [
    "print(\"Feature vector for city 0: \\n%s\\n\" % (X_cities.iloc[0]))\n",
    "print(\"Distances from city 0 to the first 5 cities: %s\" % (dists[0][:5]))\n",
    "# We can find the closest city with `np.argmin`:\n",
    "print(\n",
    "    \"The closest city from city 0 is: %d \\n\\nwith feature vector: \\n%s\"\n",
    "    % (np.argmin(dists[0]), X_cities.iloc[np.argmin(dists[0])])\n",
    ")"
   ]
  },
  {
   "cell_type": "markdown",
   "metadata": {},
   "source": [
    "Ok, so the closest city to City 0 is City 81. "
   ]
  },
  {
   "cell_type": "markdown",
   "metadata": {
    "slideshow": {
     "slide_type": "slide"
    }
   },
   "source": [
    "### Question\n",
    "\n",
    "- Why did we set the diagonal entries to infinity before finding the closest city?"
   ]
  },
  {
   "cell_type": "markdown",
   "metadata": {
    "slideshow": {
     "slide_type": "slide"
    }
   },
   "source": [
    "### Finding the distances to a query point\n",
    "\n",
    "We can also find the distances to a new \"test\" or \"query\" city:"
   ]
  },
  {
   "cell_type": "code",
   "execution_count": null,
   "metadata": {},
   "outputs": [],
   "source": [
    "# Let's find a city that's closest to the a query city\n",
    "query_point = [[-80, 25]]\n",
    "\n",
    "dists = euclidean_distances(X_cities, query_point)\n",
    "dists[0:10]"
   ]
  },
  {
   "cell_type": "code",
   "execution_count": null,
   "metadata": {},
   "outputs": [],
   "source": [
    "# The query point is closest to\n",
    "print(\n",
    "    \"The query point %s is closest to the city with index %d and the distance between them is: %0.4f\"\n",
    "    % (query_point, np.argmin(dists), dists[np.argmin(dists)])\n",
    ")"
   ]
  },
  {
   "cell_type": "markdown",
   "metadata": {
    "slideshow": {
     "slide_type": "skip"
    }
   },
   "source": [
    "<br><br>"
   ]
  },
  {
   "cell_type": "markdown",
   "metadata": {
    "slideshow": {
     "slide_type": "slide"
    }
   },
   "source": [
    "## $k$-Nearest Neighbours ($k$-NNs) [[video](https://youtu.be/bENDqXKJLmg)]"
   ]
  },
  {
   "cell_type": "code",
   "execution_count": null,
   "metadata": {
    "slideshow": {
     "slide_type": "slide"
    }
   },
   "outputs": [],
   "source": [
    "small_cities = cities_df.sample(30, random_state=90)\n",
    "one_city = small_cities.sample(1, random_state=44)\n",
    "small_train_df = pd.concat([small_cities, one_city]).drop_duplicates(keep=False)"
   ]
  },
  {
   "cell_type": "code",
   "execution_count": null,
   "metadata": {},
   "outputs": [],
   "source": [
    "X_small_cities = small_train_df.drop(columns=[\"country\"]).to_numpy()\n",
    "y_small_cities = small_train_df[\"country\"].to_numpy()\n",
    "test_point = one_city[[\"longitude\", \"latitude\"]].to_numpy()"
   ]
  },
  {
   "cell_type": "code",
   "execution_count": null,
   "metadata": {
    "slideshow": {
     "slide_type": "-"
    }
   },
   "outputs": [],
   "source": [
    "plot_train_test_points(\n",
    "    X_small_cities,\n",
    "    y_small_cities,\n",
    "    test_point,\n",
    "    class_names=[\"Canada\", \"USA\"],\n",
    "    test_format=\"circle\",\n",
    ")"
   ]
  },
  {
   "cell_type": "markdown",
   "metadata": {
    "slideshow": {
     "slide_type": "slide"
    }
   },
   "source": [
    "- Given a new data point, predict the class of the data point by finding the \"closest\" data point in the training set, i.e., by finding its \"nearest neighbour\" or majority vote of nearest neighbours. "
   ]
  },
  {
   "cell_type": "markdown",
   "metadata": {
    "slideshow": {
     "slide_type": "slide"
    }
   },
   "source": [
    "Suppose we want to predict the class of the black point.  \n",
    "- An intuitive way to do this is predict the same label as the \"closest\" point ($k = 1$) (1-nearest neighbour)\n",
    "- We would predict a target of **USA** in this case."
   ]
  },
  {
   "cell_type": "code",
   "execution_count": null,
   "metadata": {},
   "outputs": [],
   "source": [
    "plot_knn_clf(\n",
    "    X_small_cities,\n",
    "    y_small_cities,\n",
    "    test_point,\n",
    "    n_neighbors=1,\n",
    "    class_names=[\"Canada\", \"USA\"],\n",
    "    test_format=\"circle\",\n",
    ")"
   ]
  },
  {
   "cell_type": "markdown",
   "metadata": {
    "slideshow": {
     "slide_type": "slide"
    }
   },
   "source": [
    "How about using $k > 1$ to get a more robust estimate? \n",
    "- For example, we could also use the 3 closest points (*k* = 3) and let them **vote** on the correct class.  \n",
    "- The **Canada** class would win in this case. "
   ]
  },
  {
   "cell_type": "code",
   "execution_count": null,
   "metadata": {},
   "outputs": [],
   "source": [
    "plot_knn_clf(\n",
    "    X_small_cities,\n",
    "    y_small_cities,\n",
    "    test_point,\n",
    "    n_neighbors=3,\n",
    "    class_names=[\"Canada\", \"USA\"],\n",
    "    test_format=\"circle\",\n",
    ")"
   ]
  },
  {
   "cell_type": "code",
   "execution_count": null,
   "metadata": {
    "slideshow": {
     "slide_type": "slide"
    }
   },
   "outputs": [],
   "source": [
    "from sklearn.neighbors import KNeighborsClassifier\n",
    "\n",
    "k_values = [1, 3]\n",
    "\n",
    "for k in k_values:\n",
    "    neigh = KNeighborsClassifier(n_neighbors=k)\n",
    "    neigh.fit(X_small_cities, y_small_cities)\n",
    "    print(\n",
    "        \"Prediction of the black dot with %d neighbours: %s\"\n",
    "        % (k, neigh.predict(test_point))\n",
    "    )"
   ]
  },
  {
   "cell_type": "markdown",
   "metadata": {
    "slideshow": {
     "slide_type": "slide"
    }
   },
   "source": [
    "### Questions\n",
    "\n",
    "- Is it a good or a bad idea to consider an odd number for $k$? Why or why not? \n",
    "- Try different values of $k$ in the above code. "
   ]
  },
  {
   "cell_type": "markdown",
   "metadata": {
    "slideshow": {
     "slide_type": "slide"
    }
   },
   "source": [
    "### Choosing `n_neighbors`\n",
    "\n",
    "- The primary hyperparameter of the model is `n_neighbors` ($k$) which decides how many neighbours should vote during prediction? \n",
    "- What happens when we play around with `n_neighbors`?\n",
    "- Are we more likely to overfit with a low `n_neighbors` or a high `n_neighbors`?\n",
    "- Let's examine the effect of the hyperparameter on our cities data. "
   ]
  },
  {
   "cell_type": "code",
   "execution_count": null,
   "metadata": {
    "slideshow": {
     "slide_type": "slide"
    }
   },
   "outputs": [],
   "source": [
    "X = cities_df.drop(columns=[\"country\"])\n",
    "y = cities_df[\"country\"]\n",
    "\n",
    "# split into train and test sets\n",
    "X_train, X_test, y_train, y_test = train_test_split(\n",
    "    X, y, test_size=0.1, random_state=123\n",
    ")"
   ]
  },
  {
   "cell_type": "code",
   "execution_count": null,
   "metadata": {
    "slideshow": {
     "slide_type": "slide"
    }
   },
   "outputs": [],
   "source": [
    "k = 1\n",
    "knn1 = KNeighborsClassifier(n_neighbors=k)\n",
    "scores = cross_validate(knn1, X_train, y_train, return_train_score=True)\n",
    "pd.DataFrame(scores)"
   ]
  },
  {
   "cell_type": "code",
   "execution_count": null,
   "metadata": {
    "slideshow": {
     "slide_type": "-"
    }
   },
   "outputs": [],
   "source": [
    "k = 100\n",
    "knn100 = KNeighborsClassifier(n_neighbors=k)\n",
    "scores = cross_validate(knn100, X_train, y_train, return_train_score=True)\n",
    "pd.DataFrame(scores)"
   ]
  },
  {
   "cell_type": "code",
   "execution_count": null,
   "metadata": {
    "slideshow": {
     "slide_type": "slide"
    }
   },
   "outputs": [],
   "source": [
    "def f(n_neighbors=1):\n",
    "    results = {}\n",
    "    knn = KNeighborsClassifier(n_neighbors=n_neighbors)\n",
    "    scores = cross_validate(knn, X_train, y_train, return_train_score=True)\n",
    "    results[\"n_neighbours\"] = [n_neighbors]\n",
    "    results[\"mean_train_score\"] = [round(scores[\"train_score\"].mean(), 3)]\n",
    "    results[\"mean_valid_score\"] = [round(scores[\"test_score\"].mean(), 3)]\n",
    "    print(pd.DataFrame(results))\n",
    "\n",
    "\n",
    "interactive(\n",
    "    f,\n",
    "    n_neighbors=widgets.IntSlider(min=1, max=101, step=10, value=1),\n",
    ")"
   ]
  },
  {
   "cell_type": "code",
   "execution_count": null,
   "metadata": {},
   "outputs": [],
   "source": [
    "plot_knn_decision_boundaries(X_train, y_train, k_values=[1, 11, 100])"
   ]
  },
  {
   "cell_type": "markdown",
   "metadata": {
    "slideshow": {
     "slide_type": "slide"
    }
   },
   "source": [
    "### How to choose `n_neighbors`?\n",
    "\n",
    "- `n_neighbors` is a hyperparameter\n",
    "- We can use hyperparameter optimization to choose `n_neighbors`."
   ]
  },
  {
   "cell_type": "code",
   "execution_count": null,
   "metadata": {
    "slideshow": {
     "slide_type": "slide"
    }
   },
   "outputs": [],
   "source": [
    "results_dict = {\n",
    "    \"n_neighbors\": [],\n",
    "    \"mean_train_score\": [],\n",
    "    \"mean_cv_score\": [],\n",
    "    \"std_cv_score\": [],\n",
    "    \"std_train_score\": [],\n",
    "}\n",
    "param_grid = {\"n_neighbors\": np.arange(1, 50, 5)}\n",
    "\n",
    "for k in param_grid[\"n_neighbors\"]:\n",
    "    knn = KNeighborsClassifier(n_neighbors=k)\n",
    "    scores = cross_validate(knn, X_train, y_train, return_train_score=True)\n",
    "    results_dict[\"n_neighbors\"].append(k)\n",
    "\n",
    "    results_dict[\"mean_cv_score\"].append(np.mean(scores[\"test_score\"]))\n",
    "    results_dict[\"mean_train_score\"].append(np.mean(scores[\"train_score\"]))\n",
    "    results_dict[\"std_cv_score\"].append(scores[\"test_score\"].std())\n",
    "    results_dict[\"std_train_score\"].append(scores[\"train_score\"].std())\n",
    "\n",
    "results_df = pd.DataFrame(results_dict)"
   ]
  },
  {
   "cell_type": "code",
   "execution_count": null,
   "metadata": {
    "slideshow": {
     "slide_type": "slide"
    }
   },
   "outputs": [],
   "source": [
    "results_df = results_df.set_index(\"n_neighbors\")\n",
    "results_df"
   ]
  },
  {
   "cell_type": "code",
   "execution_count": null,
   "metadata": {
    "slideshow": {
     "slide_type": "slide"
    }
   },
   "outputs": [],
   "source": [
    "results_df[[\"mean_train_score\", \"mean_cv_score\"]].plot()"
   ]
  },
  {
   "cell_type": "code",
   "execution_count": null,
   "metadata": {},
   "outputs": [],
   "source": [
    "best_n_neighbours = results_df.idxmax()[\"mean_cv_score\"]\n",
    "best_n_neighbours"
   ]
  },
  {
   "cell_type": "markdown",
   "metadata": {
    "slideshow": {
     "slide_type": "slide"
    }
   },
   "source": [
    "Let's try our best model on test data. "
   ]
  },
  {
   "cell_type": "code",
   "execution_count": null,
   "metadata": {
    "slideshow": {
     "slide_type": "-"
    }
   },
   "outputs": [],
   "source": [
    "knn = KNeighborsClassifier(n_neighbors=best_n_neighbours)\n",
    "knn.fit(X_train, y_train)\n",
    "print(\"Test accuracy: %0.3f\" % (knn.score(X_test, y_test)))"
   ]
  },
  {
   "cell_type": "markdown",
   "metadata": {
    "slideshow": {
     "slide_type": "slide"
    }
   },
   "source": [
    "### ❓❓ Questions on distances and $k$-NNs"
   ]
  },
  {
   "cell_type": "markdown",
   "metadata": {},
   "source": [
    "#### Exercise 4.1"
   ]
  },
  {
   "cell_type": "markdown",
   "metadata": {},
   "source": [
    "```{admonition} Exercise 4.1: True or False\n",
    "1. Analogy-based models find examples from the test set that are most similar to the query example we are predicting.\n",
    "2. A dataset with 10 dimensions is considered low dimensional.\n",
    "3. Euclidean distance will always have a positive value.\n",
    "```    "
   ]
  },
  {
   "cell_type": "markdown",
   "metadata": {
    "slideshow": {
     "slide_type": "-"
    },
    "tags": []
   },
   "source": [
    "#### Exercise 4.2\n",
    "\n",
    "What would be the Euclidean distance between the following two vectors `u` and `v`? "
   ]
  },
  {
   "cell_type": "code",
   "execution_count": null,
   "metadata": {},
   "outputs": [],
   "source": [
    "u = np.array([0, 0, 20, -2])\n",
    "v = np.array([-1, 0, 18, -4])"
   ]
  },
  {
   "cell_type": "markdown",
   "metadata": {},
   "source": [
    "#### Exercise 4.3"
   ]
  },
  {
   "cell_type": "markdown",
   "metadata": {},
   "source": [
    "```{admonition} Exercise 4.3: True or False\n",
    "1. Unlike with decision trees, with $k$-NNs most of the work is done at the `predict` stage. \n",
    "2. With $k$-NN, setting the hyperparameter $k$ to larger values typically reduces training error. \n",
    "3. Similar to decision trees, $k$-NNs finds a small set of good features.\n",
    "4. In $k$-NN, the classification of the closest neighbour to the test example always contributes the most to the prediction.\n",
    "```    "
   ]
  },
  {
   "cell_type": "markdown",
   "metadata": {
    "slideshow": {
     "slide_type": "slide"
    }
   },
   "source": [
    "#### Exercise 4.4 $k$-NN practice questions\n",
    "\n",
    "1. When we calculated Euclidean distances from all cities to all other cities, why did we set the diagonal entries to infinity before finding the closest city?\n",
    "2. Consider this toy dataset:\n",
    "\n",
    "$$ X = \\begin{bmatrix}5 & 2\\\\4 & 3\\\\  2 & 2\\\\ 10 & 10\\\\ 9 & -1\\\\ 9& 9\\end{bmatrix}, \\quad y = \\begin{bmatrix}0\\\\0\\\\1\\\\1\\\\1\\\\2\\end{bmatrix}.$$\n",
    "\n",
    "- If $k=1$, what would you predict for $x=\\begin{bmatrix} 0\\\\0\\end{bmatrix}$?\n",
    "- If $k=3$, what would you predict for $x=\\begin{bmatrix} 0\\\\0\\end{bmatrix}$?"
   ]
  },
  {
   "cell_type": "markdown",
   "metadata": {
    "slideshow": {
     "slide_type": "slide"
    }
   },
   "source": [
    "<br><br>"
   ]
  },
  {
   "cell_type": "markdown",
   "metadata": {
    "slideshow": {
     "slide_type": "slide"
    }
   },
   "source": [
    "## More on $k$-NNs [[video](https://youtu.be/IRGbqi5S9gQ)]"
   ]
  },
  {
   "cell_type": "markdown",
   "metadata": {
    "slideshow": {
     "slide_type": "slide"
    }
   },
   "source": [
    "### Other useful arguments of `KNeighborsClassifier`\n",
    "\n",
    "- `weights` $\\rightarrow$ When predicting label, you can assign higher weight to the examples which are closer to the query example.  \n",
    "- Exercise for you: Play around with this argument. Do you get a better validation score? "
   ]
  },
  {
   "cell_type": "markdown",
   "metadata": {
    "slideshow": {
     "slide_type": "slide"
    }
   },
   "source": [
    "### (Optional) Regression with $k$-nearest neighbours ($k$-NNs)\n",
    "\n",
    "- Can we solve regression problems with $k$-nearest neighbours algorithm? \n",
    "- In $k$-NN regression we take the average of the $k$-nearest neighbours. \n",
    "- We can also have weighted regression. \n",
    "\n",
    "See an example of regression in the lecture notes. "
   ]
  },
  {
   "cell_type": "code",
   "execution_count": null,
   "metadata": {
    "slideshow": {
     "slide_type": "skip"
    }
   },
   "outputs": [],
   "source": [
    "mglearn.plots.plot_knn_regression(n_neighbors=1)"
   ]
  },
  {
   "cell_type": "code",
   "execution_count": null,
   "metadata": {
    "slideshow": {
     "slide_type": "skip"
    }
   },
   "outputs": [],
   "source": [
    "mglearn.plots.plot_knn_regression(n_neighbors=3)"
   ]
  },
  {
   "cell_type": "markdown",
   "metadata": {
    "slideshow": {
     "slide_type": "slide"
    }
   },
   "source": [
    "### Pros of $k$-NNs for supervised learning\n",
    "\n",
    "- Easy to understand, interpret.\n",
    "- Simple hyperparameter $k$ (`n_neighbors`) controlling the fundamental tradeoff.\n",
    "- Can learn very complex functions given enough data.\n",
    "- Lazy learning: Takes no time to `fit`"
   ]
  },
  {
   "cell_type": "markdown",
   "metadata": {
    "slideshow": {
     "slide_type": "slide"
    }
   },
   "source": [
    "### Cons of $k$-NNs for supervised learning\n",
    "\n",
    "- Can be potentially be VERY slow during prediction time, especially when the training set is very large. \n",
    "- Often not that great test accuracy compared to the modern approaches.\n",
    "- It does not work well on datasets with many features or where most feature values are 0 most of the time (sparse datasets).    "
   ]
  },
  {
   "cell_type": "markdown",
   "metadata": {
    "slideshow": {
     "slide_type": "skip"
    }
   },
   "source": [
    "```{admonition} Attention\n",
    ":class: important\n",
    "\n",
    "For regular $k$-NN for supervised learning (not with sparse matrices), you should scale your features. We'll be looking into it soon. \n",
    "```"
   ]
  },
  {
   "cell_type": "markdown",
   "metadata": {
    "slideshow": {
     "slide_type": "slide"
    }
   },
   "source": [
    "### Parametric vs non parametric \n",
    "\n",
    "- You might see a lot of definitions of these terms.\n",
    "- A simple way to think about this is: \n",
    "    - do you need to store at least $O(n)$ worth of stuff to make predictions? If so, it's non-parametric.\n",
    "- Non-parametric example: $k$-NN is a classic example of non-parametric models.     \n",
    "- Parametric example: decision stump\n",
    "- If you want to know more about this, find some reading material [here](https://www.cs.ubc.ca/~schmidtm/Courses/340-F16/L6.pdf), [here](http://mlss.tuebingen.mpg.de/2015/slides/ghahramani/gp-neural-nets15.pdf), and [here](https://machinelearningmastery.com/parametric-and-nonparametric-machine-learning-algorithms/). \n",
    "- By the way, the terms \"parametric\" and \"non-paramteric\" are often used differently by statisticians, see [here](https://help.xlstat.com/s/article/what-is-the-difference-between-a-parametric-and-a-nonparametric-test?language=en_US) for more..."
   ]
  },
  {
   "cell_type": "markdown",
   "metadata": {},
   "source": [
    "```{note}\n",
    "$\\mathcal{O}(n)$ is referred to as big $\\mathcal{O}$ notation. It tells you how fast an algorithm is or how much storage space it requires. For example, in simple terms, if you have $n$ examples and you need to store them all you can say that the algorithm requires $\\mathcal{O}(n)$ worth of stuff. \n",
    "```"
   ]
  },
  {
   "cell_type": "markdown",
   "metadata": {
    "slideshow": {
     "slide_type": "slide"
    }
   },
   "source": [
    "### Curse of dimensionality\n",
    "\n",
    "- Affects all learners but especially bad for nearest-neighbour. \n",
    "- $k$-NN usually works well when the number of dimensions $d$ is small but things fall apart quickly as $d$ goes up.\n",
    "- If there are many irrelevant attributes, $k$-NN is hopelessly confused because all of them contribute to finding similarity between examples. \n",
    "- With enough irrelevant attributes the accidental similarity swamps out meaningful similarity and $k$-NN is no better than random guessing.  "
   ]
  },
  {
   "cell_type": "code",
   "execution_count": null,
   "metadata": {
    "slideshow": {
     "slide_type": "slide"
    }
   },
   "outputs": [],
   "source": [
    "from sklearn.datasets import make_classification\n",
    "\n",
    "nfeats_accuracy = {\"nfeats\": [], \"dummy_valid_accuracy\": [], \"KNN_valid_accuracy\": []}\n",
    "for n_feats in range(4, 2000, 100):\n",
    "    X, y = make_classification(n_samples=2000, n_features=n_feats, n_classes=2)\n",
    "    X_train, X_test, y_train, y_test = train_test_split(\n",
    "        X, y, test_size=0.2, random_state=123\n",
    "    )\n",
    "    dummy = DummyClassifier(strategy=\"most_frequent\")\n",
    "    dummy_scores = cross_validate(dummy, X_train, y_train, return_train_score=True)\n",
    "\n",
    "    knn = KNeighborsClassifier()\n",
    "    scores = cross_validate(knn, X_train, y_train, return_train_score=True)\n",
    "    nfeats_accuracy[\"nfeats\"].append(n_feats)\n",
    "    nfeats_accuracy[\"KNN_valid_accuracy\"].append(np.mean(scores[\"test_score\"]))\n",
    "    nfeats_accuracy[\"dummy_valid_accuracy\"].append(np.mean(dummy_scores[\"test_score\"]))"
   ]
  },
  {
   "cell_type": "code",
   "execution_count": null,
   "metadata": {},
   "outputs": [],
   "source": [
    "pd.DataFrame(nfeats_accuracy)"
   ]
  },
  {
   "cell_type": "markdown",
   "metadata": {
    "slideshow": {
     "slide_type": "slide"
    }
   },
   "source": [
    "## Break (5 min)\n",
    "\n",
    "![](img/eva-coffee.png)\n"
   ]
  },
  {
   "cell_type": "markdown",
   "metadata": {},
   "source": [
    "<br><br>"
   ]
  },
  {
   "cell_type": "markdown",
   "metadata": {
    "slideshow": {
     "slide_type": "slide"
    }
   },
   "source": [
    "## Support Vector Machines (SVMs) with RBF kernel [[video](https://youtu.be/ic_zqOhi020)]\n",
    "\n",
    "- Very high-level overview\n",
    "- Our goals here are\n",
    "    - Use `scikit-learn`'s SVM model. \n",
    "    - Broadly explain the notion of support vectors.  \n",
    "    - Broadly explain the similarities and differences between $k$-NNs and SVM RBFs.\n",
    "    - Explain how `C` and `gamma` hyperparameters control the fundamental tradeoff.\n",
    "    \n",
    "> (Optional) RBF stands for radial basis functions. We won't go into what it means in this video. Refer to [this video](https://www.youtube.com/watch?v=Qc5IyLW_hns) if you want to know more. "
   ]
  },
  {
   "cell_type": "markdown",
   "metadata": {
    "slideshow": {
     "slide_type": "slide"
    }
   },
   "source": [
    "### Overview\n",
    "\n",
    "- Another popular similarity-based algorithm is Support Vector Machines with RBF Kernel (SVM RBFs)\n",
    "- Superficially, SVM RBFs are more like weighted $k$-NNs.\n",
    "    - The decision boundary is defined by **a set of positive and negative examples** and **their weights** together with **their similarity measure**. \n",
    "    - A test example is labeled positive if on average it looks more like positive examples than the negative examples. "
   ]
  },
  {
   "cell_type": "markdown",
   "metadata": {
    "slideshow": {
     "slide_type": "slide"
    }
   },
   "source": [
    "- The primary difference between $k$-NNs and SVM RBFs is that \n",
    "    - Unlike $k$-NNs, SVM RBFs only remember the key examples (support vectors). So it's more efficient than $k$-NN. \n",
    "    - SVMs use a different similarity metric which is called a \"kernel\" in SVM land. A popular kernel is Radial Basis Functions (RBFs)\n",
    "    - They usually perform better than $k$-NNs! "
   ]
  },
  {
   "cell_type": "markdown",
   "metadata": {
    "slideshow": {
     "slide_type": "slide"
    }
   },
   "source": [
    "### Let's explore SVM RBFs\n",
    "\n",
    "Let's try SVMs on the cities dataset. "
   ]
  },
  {
   "cell_type": "code",
   "execution_count": null,
   "metadata": {
    "slideshow": {
     "slide_type": "-"
    }
   },
   "outputs": [],
   "source": [
    "mglearn.discrete_scatter(X_cities.iloc[:, 0], X_cities.iloc[:, 1], y_cities)\n",
    "plt.xlabel(\"longitude\")\n",
    "plt.ylabel(\"latitude\")\n",
    "plt.legend(loc=1);"
   ]
  },
  {
   "cell_type": "code",
   "execution_count": null,
   "metadata": {},
   "outputs": [],
   "source": [
    "X_train, X_test, y_train, y_test = train_test_split(\n",
    "    X_cities, y_cities, test_size=0.2, random_state=123\n",
    ")"
   ]
  },
  {
   "cell_type": "code",
   "execution_count": null,
   "metadata": {
    "slideshow": {
     "slide_type": "slide"
    }
   },
   "outputs": [],
   "source": [
    "knn = KNeighborsClassifier(n_neighbors=best_n_neighbours)\n",
    "scores = cross_validate(knn, X_train, y_train, return_train_score=True)\n",
    "print(\"Mean validation score %0.3f\" % (np.mean(scores[\"test_score\"])))\n",
    "pd.DataFrame(scores)"
   ]
  },
  {
   "cell_type": "code",
   "execution_count": null,
   "metadata": {},
   "outputs": [],
   "source": [
    "from sklearn.svm import SVC\n",
    "\n",
    "svm = SVC(gamma=0.01)  # Ignore gamma for now\n",
    "scores = cross_validate(svm, X_train, y_train, return_train_score=True)\n",
    "print(\"Mean validation score %0.3f\" % (np.mean(scores[\"test_score\"])))\n",
    "pd.DataFrame(scores)"
   ]
  },
  {
   "cell_type": "markdown",
   "metadata": {
    "slideshow": {
     "slide_type": "slide"
    }
   },
   "source": [
    "### Decision boundary of SVMs \n",
    "- We can think of SVM with RBF kernel as \"smooth KNN\". "
   ]
  },
  {
   "cell_type": "code",
   "execution_count": null,
   "metadata": {},
   "outputs": [],
   "source": [
    "fig, axes = plt.subplots(1, 2, figsize=(16, 5))\n",
    "\n",
    "for clf, ax in zip([knn, svm], axes):\n",
    "    clf.fit(X_train, y_train)\n",
    "    mglearn.plots.plot_2d_separator(\n",
    "        clf, X_train.to_numpy(), fill=True, eps=0.5, ax=ax, alpha=0.4\n",
    "    )\n",
    "    mglearn.discrete_scatter(X_train.iloc[:, 0], X_train.iloc[:, 1], y_train, ax=ax)\n",
    "    ax.set_title(clf)\n",
    "    ax.set_xlabel(\"longitude\")\n",
    "    ax.set_ylabel(\"latitude\")"
   ]
  },
  {
   "cell_type": "markdown",
   "metadata": {
    "slideshow": {
     "slide_type": "slide"
    }
   },
   "source": [
    "### Support vectors \n",
    "\n",
    "- Each training example either is or isn't a \"support vector\".\n",
    "  - This gets decided during `fit`.\n",
    "\n",
    "- **Main insight: the decision boundary only depends on the support vectors.**\n",
    "\n",
    "- Let's look at the support vectors. "
   ]
  },
  {
   "cell_type": "code",
   "execution_count": null,
   "metadata": {
    "slideshow": {
     "slide_type": "-"
    }
   },
   "outputs": [],
   "source": [
    "from sklearn.datasets import make_blobs\n",
    "\n",
    "n = 20\n",
    "n_classes = 2\n",
    "X_toy, y_toy = make_blobs(\n",
    "    n_samples=n, centers=n_classes, random_state=300\n",
    ")  # Let's generate some fake data"
   ]
  },
  {
   "cell_type": "code",
   "execution_count": null,
   "metadata": {
    "slideshow": {
     "slide_type": "slide"
    }
   },
   "outputs": [],
   "source": [
    "mglearn.discrete_scatter(X_toy[:, 0], X_toy[:, 1], y_toy)\n",
    "plt.xlabel(\"Feature 0\")\n",
    "plt.ylabel(\"Feature 1\")\n",
    "svm = SVC(kernel=\"rbf\", C=10, gamma=0.1).fit(X_toy, y_toy)\n",
    "mglearn.plots.plot_2d_separator(svm, X_toy, fill=True, eps=0.5, alpha=0.4)"
   ]
  },
  {
   "cell_type": "code",
   "execution_count": null,
   "metadata": {
    "slideshow": {
     "slide_type": "slide"
    }
   },
   "outputs": [],
   "source": [
    "svm.support_"
   ]
  },
  {
   "cell_type": "code",
   "execution_count": null,
   "metadata": {
    "slideshow": {
     "slide_type": "-"
    }
   },
   "outputs": [],
   "source": [
    "plot_support_vectors(svm, X_toy, y_toy)"
   ]
  },
  {
   "cell_type": "markdown",
   "metadata": {},
   "source": [
    "The support vectors are the bigger points in the plot above. "
   ]
  },
  {
   "cell_type": "markdown",
   "metadata": {
    "slideshow": {
     "slide_type": "slide"
    }
   },
   "source": [
    "### Hyperparameters of SVM \n",
    "\n",
    "- Key hyperparameters of `rbf` SVM are\n",
    "    - `gamma`\n",
    "    - `C`\n",
    "    \n",
    "- We are not equipped to understand the meaning of these parameters at this point but you are expected to describe their relation to the fundamental tradeoff. \n",
    "\n",
    "See [`scikit-learn`'s explanation of RBF SVM parameters](https://scikit-learn.org/stable/auto_examples/svm/plot_rbf_parameters.html). "
   ]
  },
  {
   "cell_type": "markdown",
   "metadata": {
    "slideshow": {
     "slide_type": "slide"
    }
   },
   "source": [
    "### Relation of `gamma` and the fundamental trade-off\n",
    "\n",
    "- `gamma` controls the complexity (fundamental trade-off), just like other hyperparameters we've seen.\n",
    "  - larger `gamma` $\\rightarrow$ more complex\n",
    "  - smaller `gamma` $\\rightarrow$ less complex"
   ]
  },
  {
   "cell_type": "code",
   "execution_count": null,
   "metadata": {
    "slideshow": {
     "slide_type": "-"
    }
   },
   "outputs": [],
   "source": [
    "gamma = [0.001, 0.01, 0.1, 1.0, 10.0]\n",
    "plot_svc_gamma(\n",
    "    gamma,\n",
    "    X_train.to_numpy(),\n",
    "    y_train.to_numpy(),\n",
    "    x_label=\"longitude\",\n",
    "    y_label=\"latitude\",\n",
    ")"
   ]
  },
  {
   "cell_type": "markdown",
   "metadata": {
    "slideshow": {
     "slide_type": "slide"
    }
   },
   "source": [
    "### Relation of `C` and the fundamental trade-off\n",
    "\n",
    "- `C` _also_ affects the fundamental tradeoff\n",
    "    - larger `C` $\\rightarrow$ more complex \n",
    "    - smaller `C` $\\rightarrow$ less complex "
   ]
  },
  {
   "cell_type": "code",
   "execution_count": null,
   "metadata": {},
   "outputs": [],
   "source": [
    "C = [0.1, 1.0, 100.0, 1000.0, 100000.0]\n",
    "plot_svc_C(\n",
    "    C, X_train.to_numpy(), y_train.to_numpy(), x_label=\"longitude\", y_label=\"latitude\"\n",
    ")"
   ]
  },
  {
   "cell_type": "markdown",
   "metadata": {
    "slideshow": {
     "slide_type": "slide"
    }
   },
   "source": [
    "### Search over multiple hyperparameters\n",
    "\n",
    "- So far you have seen how to carry out search over a hyperparameter\n",
    "- In the above case the best training error is achieved by the most complex model (large `gamma`, large `C`).\n",
    "- Best validation error requires a hyperparameter search to balance the fundamental tradeoff.\n",
    "  - In general we can't search them one at a time.\n",
    "  - More on this next week. But if you cannot wait till then, you may look up the following:\n",
    "    - [sklearn.model_selection.GridSearchCV](https://scikit-learn.org/stable/modules/generated/sklearn.model_selection.GridSearchCV.html)\n",
    "    - [sklearn.model_selection.RandomizedSearchCV](https://scikit-learn.org/stable/modules/generated/sklearn.model_selection.RandomizedSearchCV.html)"
   ]
  },
  {
   "cell_type": "markdown",
   "metadata": {
    "slideshow": {
     "slide_type": "slide"
    }
   },
   "source": [
    "### SVM Regressor\n",
    "\n",
    "- Similar to KNNs, you can use SVMs for regression problems as well.\n",
    "- See [`sklearn.svm.SVR`](https://scikit-learn.org/stable/modules/generated/sklearn.svm.SVR.html) for more details. "
   ]
  },
  {
   "cell_type": "markdown",
   "metadata": {
    "slideshow": {
     "slide_type": "slide"
    }
   },
   "source": [
    "### ❓❓ Questions on SVM RBFs"
   ]
  },
  {
   "cell_type": "markdown",
   "metadata": {
    "slideshow": {
     "slide_type": "-"
    },
    "tags": []
   },
   "source": [
    "#### Exercise 4.5 "
   ]
  },
  {
   "cell_type": "markdown",
   "metadata": {
    "slideshow": {
     "slide_type": "skip"
    }
   },
   "source": [
    "```{admonition} Exercise 4.5: SVM RBF True/False questions\n",
    "1. $k$-NN may perform poorly in high-dimensional space (say, *d* > 1000). \n",
    "2. Similar to KNN, SVM with RBF kernel is a non-parametric model.\n",
    "3. In SVM RBF, removing a non-support vector would not change the decision boundary. \n",
    "4. In sklearn’s SVC classifier, large values of gamma tend to result in higher training score but probably lower validation score. \n",
    "5. If we increase both gamma and C, we can't be certain if the model becomes more complex or less complex.\n",
    "```"
   ]
  },
  {
   "cell_type": "markdown",
   "metadata": {
    "slideshow": {
     "slide_type": "slide"
    },
    "tags": []
   },
   "source": [
    "#### More practice questions \n",
    "\n",
    "- Check out some more practice questions [here](https://ml-learn.mds.ubc.ca/en/module4)."
   ]
  },
  {
   "cell_type": "markdown",
   "metadata": {
    "slideshow": {
     "slide_type": "slide"
    }
   },
   "source": [
    "## Summary\n",
    "\n",
    "- We have KNNs and SVMs as new supervised learning techniques in our toolbox.\n",
    "- These are analogy-based learners and the idea is to assign nearby points the same label.\n",
    "- Unlike decision trees, all features are equally important. \n",
    "- Both can be used for classification or regression (much like the other methods we've seen)."
   ]
  },
  {
   "cell_type": "markdown",
   "metadata": {
    "slideshow": {
     "slide_type": "slide"
    }
   },
   "source": [
    "### Coming up:\n",
    "\n",
    "Lingering questions: \n",
    "- Are we ready to do machine learning on real-world datasets?\n",
    "- What would happen if we use $k$-NNs or SVM RBFs on the spotify dataset from hw1?  \n",
    "- What happens if we have missing values in our data? \n",
    "- What do we do if we have features with categories or string values?\n"
   ]
  },
  {
   "cell_type": "markdown",
   "metadata": {
    "slideshow": {
     "slide_type": "slide"
    },
    "tags": []
   },
   "source": [
    "![](img/eva-seeyou.png)"
   ]
  },
  {
   "cell_type": "code",
   "execution_count": null,
   "metadata": {},
   "outputs": [],
   "source": []
  }
 ],
 "metadata": {
  "celltoolbar": "Slideshow",
  "kernelspec": {
   "display_name": "Python [conda env:cpsc330]",
   "language": "python",
   "name": "conda-env-cpsc330-py"
  },
  "language_info": {
   "codemirror_mode": {
    "name": "ipython",
    "version": 3
   },
   "file_extension": ".py",
   "mimetype": "text/x-python",
   "name": "python",
   "nbconvert_exporter": "python",
   "pygments_lexer": "ipython3",
   "version": "3.9.6"
  }
 },
 "nbformat": 4,
 "nbformat_minor": 4
}
